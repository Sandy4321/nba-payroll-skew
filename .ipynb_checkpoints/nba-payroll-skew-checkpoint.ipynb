{
 "metadata": {
  "name": "",
  "signature": "sha256:88a5ad755bf9826224ee46554f1565409df24d5f4d82eec3ee769620da86e11e"
 },
 "nbformat": 3,
 "nbformat_minor": 0,
 "worksheets": [
  {
   "cells": [
    {
     "cell_type": "code",
     "collapsed": false,
     "input": [],
     "language": "python",
     "metadata": {},
     "outputs": []
    }
   ],
   "metadata": {}
  }
 ]
}