{
 "metadata": {
  "name": "",
  "signature": "sha256:826d2880a70d5997abff6ba341e7dd7a01c7524afc8d24767fa1e378d00e14d5"
 },
 "nbformat": 3,
 "nbformat_minor": 0,
 "worksheets": [
  {
   "cells": [
    {
     "cell_type": "markdown",
     "metadata": {},
     "source": [
      "NBA Payroll Skewness\n",
      "====================\n",
      "*Analyzing the role of skewness in an NBA team's payroll in team performance*\n",
      "\n",
      "Introduction\n",
      "------------\n",
      "The NBA is known for having a complex salary system, with all sorts of restrictions and caps.  Moreover, star players often make waves as they sign multi-year, multi-million dollar contracts.  The following is a straightforward exercise that uses the `BeautifulSoup` Python package to scrape NBA payroll data from the web and apply analysis with respect to team performance.  \n",
      "  \n",
      "Teams\n",
      "----\n",
      "We will treat the payroll of a given team in a given year as one data point.  Although we could simply hardcode in the names of the NBA teams (go Warriors), we prefer to explore `bs4` a little bit.  To get the upcoming season's team names, we go to [ESPN's NBA Teams page](http://espn.go.com/nba/teams).  In order to leverage Beautiful Soup, we have to inspect the HTML of the page and see if there is a specific pattern for each div that contains a team name.  After doing so, we write the `is_team` method that checks BS tags, and make the request:"
     ]
    },
    {
     "cell_type": "code",
     "collapsed": false,
     "input": [
      "import requests\n",
      "from bs4 import BeautifulSoup\n",
      "\n",
      "def is_team(tag):\n",
      "    return tag.has_attr('class') and tag.name == 'a' and ('bi' in tag['class'])\n",
      "\n",
      "url = 'http://espn.go.com/nba/teams'\n",
      "r = requests.get(url)\n",
      "soup = BeautifulSoup(r.text)\n",
      "teams = [team_tag.string for team_tag in soup.find_all(is_team)]"
     ],
     "language": "python",
     "metadata": {},
     "outputs": [],
     "prompt_number": 1
    },
    {
     "cell_type": "code",
     "collapsed": false,
     "input": [
      "print teams"
     ],
     "language": "python",
     "metadata": {},
     "outputs": [
      {
       "output_type": "stream",
       "stream": "stdout",
       "text": [
        "[u'Boston Celtics', u'Brooklyn Nets', u'New York Knicks', u'Philadelphia 76ers', u'Toronto Raptors', u'Golden State Warriors', u'Los Angeles Clippers', u'Los Angeles Lakers', u'Phoenix Suns', u'Sacramento Kings', u'Chicago Bulls', u'Cleveland Cavaliers', u'Detroit Pistons', u'Indiana Pacers', u'Milwaukee Bucks', u'Dallas Mavericks', u'Houston Rockets', u'Memphis Grizzlies', u'New Orleans Pelicans', u'San Antonio Spurs', u'Atlanta Hawks', u'Charlotte Hornets', u'Miami Heat', u'Orlando Magic', u'Washington Wizards', u'Denver Nuggets', u'Minnesota Timberwolves', u'Oklahoma City Thunder', u'Portland Trail Blazers', u'Utah Jazz']\n"
       ]
      }
     ],
     "prompt_number": 2
    },
    {
     "cell_type": "markdown",
     "metadata": {},
     "source": [
      "Now, we can move to collect the payroll data for each team and for a range of years.  It appears that [Shamsports Data](data.shamsports.com) has the best collection that is publicly and freely available.  After exploring the website a bit, we hypothesize that a given team and year's payroll is available in the following URL format:  \n",
      "\"http://data.shamsports.com/content/pages/data/salaries/\" + year + \"/\" + team name + \".jsp\"  \n",
      "  \n",
      "For example, the 2012 Warriors (season = 2011-2012) payroll data is most easily accessible at \"http://data.shamsports.com/content/pages/data/salaries/2012/warriors.jsp\".  If you follow the link, you'll notice that that page also gives information for the 2012-2013 season, and the 2013-2014 season (though incomplete).  This is because the site attempts to project the payroll for future years given the then-current contracts.  To get the most accurate data, we'll want to use the `requests` package to get make separate requests for each data point.  \n",
      "  \n",
      "Let's check if our URL schema is right, and just how much data is available to us.  We do so with a 2d Numpy array of 0's and 1's, indicating failed and successful requests, respectively:"
     ]
    },
    {
     "cell_type": "code",
     "collapsed": false,
     "input": [
      "import pandas as pd\n",
      "import numpy as np\n",
      "\n",
      "base = 'http://data.shamsports.com/content/pages/data/salaries/'\n",
      "years = range(2000, 2015)\n",
      "x = np.ones((len(teams), len(years)), dtype=np.int)\n",
      "test_url = [t.split()[-1].lower() for t in teams]\n",
      "\n",
      "# if one of our rows is all 0s, that means the team url is actually wrong\n",
      "i = 0\n",
      "for tu in test_url:\n",
      "    j = 0\n",
      "    for year in years:\n",
      "        url = base + str(year) + '/' + tu + '.jsp'\n",
      "        r = requests.get(url)\n",
      "        if r.status_code == 404:\n",
      "            x[i, j] = 0 # mark it as a failed request\n",
      "            # print '404 for team \"' + tu + '\" and year ' + str(year)\n",
      "        j += 1\n",
      "    i += 1\n",
      "\n",
      "df = pd.DataFrame(x, index=test_url, columns=years)\n",
      "print df"
     ],
     "language": "python",
     "metadata": {},
     "outputs": [
      {
       "output_type": "stream",
       "stream": "stdout",
       "text": [
        "              2000  2001  2002  2003  2004  2005  2006  2007  2008  2009  \\\n",
        "celtics          0     0     0     0     0     0     0     1     1     1   \n",
        "nets             0     0     0     0     0     0     0     1     1     1   \n",
        "knicks           0     0     0     0     0     0     0     1     1     1   \n",
        "76ers            0     0     0     0     0     0     0     0     0     0   \n",
        "raptors          0     0     0     0     0     0     0     1     1     1   \n",
        "warriors         0     0     0     0     0     0     0     1     1     1   \n",
        "clippers         0     0     0     0     0     0     0     1     1     1   \n",
        "lakers           0     0     0     0     0     0     0     1     1     1   \n",
        "suns             0     0     0     0     0     0     0     1     1     1   \n",
        "kings            0     0     0     0     0     0     0     1     1     1   \n",
        "bulls            0     0     0     0     0     0     0     1     1     1   \n",
        "cavaliers        0     0     0     0     0     0     0     1     1     1   \n",
        "pistons          0     0     0     0     0     0     0     1     1     1   \n",
        "pacers           0     0     0     0     0     0     0     1     1     1   \n",
        "bucks            0     0     0     0     0     0     0     1     1     1   \n",
        "mavericks        0     0     0     0     0     0     0     1     1     1   \n",
        "rockets          0     0     0     0     0     0     0     1     1     1   \n",
        "grizzlies        0     0     0     0     0     0     0     1     1     1   \n",
        "pelicans         0     0     0     0     0     0     0     0     0     0   \n",
        "spurs            0     0     0     0     0     0     0     1     1     1   \n",
        "hawks            0     0     0     0     0     0     0     1     1     1   \n",
        "hornets          0     0     0     0     0     0     0     1     1     1   \n",
        "heat             0     0     0     0     0     0     0     1     1     1   \n",
        "magic            0     0     0     0     0     0     0     1     1     1   \n",
        "wizards          0     0     0     0     0     0     0     1     1     1   \n",
        "nuggets          0     0     0     0     0     0     0     1     1     1   \n",
        "timberwolves     0     0     0     0     0     0     0     1     1     1   \n",
        "thunder          0     0     0     0     0     0     0     0     0     1   \n",
        "blazers          0     0     0     0     0     0     0     1     1     1   \n",
        "jazz             0     0     0     0     0     0     0     1     1     1   \n",
        "\n",
        "              2010  2011  2012  2013  2014  \n",
        "celtics          1     1     1     1     1  \n",
        "nets             1     1     1     1     1  \n",
        "knicks           1     1     1     1     1  \n",
        "76ers            0     0     0     0     0  \n",
        "raptors          1     1     1     1     1  \n",
        "warriors         1     1     1     1     1  \n",
        "clippers         1     1     1     1     1  \n",
        "lakers           1     1     1     1     1  \n",
        "suns             1     1     1     1     1  \n",
        "kings            1     1     1     1     1  \n",
        "bulls            1     1     1     1     1  \n",
        "cavaliers        1     1     1     1     1  \n",
        "pistons          1     1     1     1     1  \n",
        "pacers           1     1     1     1     1  \n",
        "bucks            1     1     1     1     1  \n",
        "mavericks        1     1     1     1     1  \n",
        "rockets          1     1     1     1     1  \n",
        "grizzlies        1     1     1     1     1  \n",
        "pelicans         0     0     0     1     1  \n",
        "spurs            1     1     1     1     1  \n",
        "hawks            1     1     1     1     1  \n",
        "hornets          1     1     1     0     1  \n",
        "heat             1     1     1     1     1  \n",
        "magic            1     1     1     1     1  \n",
        "wizards          1     1     1     1     1  \n",
        "nuggets          1     1     1     1     1  \n",
        "timberwolves     1     1     1     1     1  \n",
        "thunder          1     1     1     1     1  \n",
        "blazers          1     1     1     1     1  \n",
        "jazz             1     1     1     1     1  \n"
       ]
      }
     ],
     "prompt_number": 3
    },
    {
     "cell_type": "markdown",
     "metadata": {},
     "source": [
      "If we check which rows are all 0 (which URL's are completely incorrect), we find the following:"
     ]
    },
    {
     "cell_type": "code",
     "collapsed": false,
     "input": [
      "print df[(df.T == 0).all()]"
     ],
     "language": "python",
     "metadata": {},
     "outputs": [
      {
       "output_type": "stream",
       "stream": "stdout",
       "text": [
        "       2000  2001  2002  2003  2004  2005  2006  2007  2008  2009  2010  2011  \\\n",
        "76ers     0     0     0     0     0     0     0     0     0     0     0     0   \n",
        "\n",
        "       2012  2013  2014  \n",
        "76ers     0     0     0  \n"
       ]
      }
     ],
     "prompt_number": 4
    },
    {
     "cell_type": "markdown",
     "metadata": {},
     "source": [
      "Looks like 76ers is just wrong (404 for all years attempted), so let's try the URL 'sixers'."
     ]
    },
    {
     "cell_type": "code",
     "collapsed": false,
     "input": [
      "tu = u'sixers'\n",
      "i = 3 ## << index of the sixers\n",
      "j = 0\n",
      "for year in years:\n",
      "    url = base + str(year) + '/' + tu + '.jsp'\n",
      "    r = requests.get(url)\n",
      "    if r.status_code != 404:\n",
      "        x[i, j] = 1 # score (jk Sixers don't know how to do that)\n",
      "        # print 'URL valid for team \"' + tu + '\" and year ' + str(year)\n",
      "    j += 1\n",
      "\n",
      "test_url[3] = tu\n",
      "df = pd.DataFrame(x, index=test_url, columns=years)"
     ],
     "language": "python",
     "metadata": {},
     "outputs": [],
     "prompt_number": 5
    },
    {
     "cell_type": "markdown",
     "metadata": {},
     "source": [
      "Finally, we can look at which columns are all zero, which can let us know the earliest season that the website has data for:"
     ]
    },
    {
     "cell_type": "code",
     "collapsed": false,
     "input": [
      "print df.columns[(df == 0).all()]"
     ],
     "language": "python",
     "metadata": {},
     "outputs": [
      {
       "output_type": "stream",
       "stream": "stdout",
       "text": [
        "Int64Index([2000, 2001, 2002, 2003, 2004, 2005, 2006], dtype='int64')\n"
       ]
      }
     ],
     "prompt_number": 6
    },
    {
     "cell_type": "markdown",
     "metadata": {},
     "source": [
      "Since the earliest season is 2007, then, we slice our Pandas DataFrame and `pickle` it for further usage:"
     ]
    },
    {
     "cell_type": "code",
     "collapsed": false,
     "input": [
      "df = df.loc[:, ~(df == 0).all()]\n",
      "\n",
      "import pickle\n",
      "pickle.dump(df, open('valid_pages.p', 'wb'))"
     ],
     "language": "python",
     "metadata": {},
     "outputs": [],
     "prompt_number": 7
    }
   ],
   "metadata": {}
  }
 ]
}